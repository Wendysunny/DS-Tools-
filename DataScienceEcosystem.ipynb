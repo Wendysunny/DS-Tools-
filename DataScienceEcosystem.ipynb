{
 "cells": [
  {
   "cell_type": "markdown",
   "id": "ef8f95cf",
   "metadata": {},
   "source": [
    "# Data Science Tools and Ecosystem"
   ]
  },
  {
   "cell_type": "markdown",
   "id": "9ceba192",
   "metadata": {},
   "source": [
    "## In this notebook, Data Science Tools and Ecosystem are summarized. "
   ]
  },
  {
   "cell_type": "markdown",
   "id": "2dad51f7",
   "metadata": {},
   "source": [
    "## Some of the popular languages that Data Scientists use are: \n",
    "1. Python\n",
    "2. R\n",
    "3. Java"
   ]
  },
  {
   "cell_type": "markdown",
   "id": "b378b967",
   "metadata": {},
   "source": [
    "### Some of the commonly used libraries used by Data Scientists include: \n",
    "  1. Pandas\n",
    "  2. Numpy\n",
    "  3. Seaborn\n",
    "  4. Sklearn\n",
    "  5. Matplotlib\n",
    "  6. Sqlite3\n",
    "  7. Prettytable\n",
    "  8. BeautifulSoup\n",
    "  9. Dash"
   ]
  },
  {
   "cell_type": "markdown",
   "id": "a70335c4",
   "metadata": {},
   "source": [
    "| Data Science Tools |\n",
    "| -------------------|\n",
    "| VS Code            |\n",
    "| JupyterLite        |\n",
    "| Google Colaboratory|"
   ]
  },
  {
   "cell_type": "markdown",
   "id": "d9ec44e0",
   "metadata": {},
   "source": [
    "### Below are a few examples of evaluating arithmetic expressions in Python"
   ]
  },
  {
   "cell_type": "code",
   "execution_count": 11,
   "id": "50adda86",
   "metadata": {},
   "outputs": [
    {
     "data": {
      "text/plain": [
       "17"
      ]
     },
     "execution_count": 11,
     "metadata": {},
     "output_type": "execute_result"
    }
   ],
   "source": [
    "# This is a simple arithmetic expression to multiply then add integers.\n",
    "3*4 + 5"
   ]
  },
  {
   "cell_type": "code",
   "execution_count": 12,
   "id": "ca703aec",
   "metadata": {},
   "outputs": [
    {
     "data": {
      "text/plain": [
       "3.3333333333333335"
      ]
     },
     "execution_count": 12,
     "metadata": {},
     "output_type": "execute_result"
    }
   ],
   "source": [
    "# This will convert 200 minutes to hours by dividing by 60. \n",
    "200 / 60"
   ]
  },
  {
   "cell_type": "markdown",
   "id": "48baacc8",
   "metadata": {},
   "source": [
    "### **Objectives:**\n",
    "- Python\n",
    "- R \n",
    "- Java\n",
    "- C++\n",
    "- Julia\n",
    "- Scala\n"
   ]
  },
  {
   "cell_type": "markdown",
   "id": "d9e0da2d",
   "metadata": {},
   "source": [
    "## Author \n",
    "Wenzhao Yang"
   ]
  }
 ],
 "metadata": {
  "kernelspec": {
   "display_name": "Python 3",
   "language": "python",
   "name": "python3"
  },
  "language_info": {
   "codemirror_mode": {
    "name": "ipython",
    "version": 3
   },
   "file_extension": ".py",
   "mimetype": "text/x-python",
   "name": "python",
   "nbconvert_exporter": "python",
   "pygments_lexer": "ipython3",
   "version": "3.10.1"
  }
 },
 "nbformat": 4,
 "nbformat_minor": 5
}
